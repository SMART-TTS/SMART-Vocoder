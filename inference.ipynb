{
 "cells": [
  {
   "cell_type": "code",
   "execution_count": 1,
   "metadata": {},
   "outputs": [],
   "source": [
    "%matplotlib inline\n",
    "import matplotlib.pyplot as plt\n",
    "import IPython.display as ipd\n",
    "\n",
    "import os\n",
    "import json\n",
    "import math\n",
    "import torch\n",
    "from torch import nn\n",
    "from torch.nn import functional as F\n",
    "from torch.utils.data import DataLoader\n",
    "import time\n",
    "import commons\n",
    "from utils import load_wav_to_torch\n",
    "import utils\n",
    "from data_utils import AudioSpecLoader, AudioSpecCollate\n",
    "from models import SynthesizerTrn\n",
    "\n",
    "\n",
    "from glob import glob\n",
    "from scipy.io.wavfile import write\n",
    "from mel_processing import mel_spectrogram_torch, spec_to_mel_torch, spectrogram_torch\n"
   ]
  },
  {
   "cell_type": "markdown",
   "metadata": {},
   "source": [
    "IITP"
   ]
  },
  {
   "cell_type": "code",
   "execution_count": 3,
   "metadata": {},
   "outputs": [],
   "source": [
    "hps = utils.get_hparams_from_file(\"./configs/iitp_base.json\")\n",
    "from scipy.io.wavfile import write"
   ]
  },
  {
   "cell_type": "code",
   "execution_count": 6,
   "metadata": {},
   "outputs": [
    {
     "name": "stdout",
     "output_type": "stream",
     "text": [
      "INFO:root:Loaded checkpoint '/home/mhjeong/tools/IITP_vocoder/cvae/logs/iitp_ss/G_1026000.pth' (iteration 900)\n"
     ]
    }
   ],
   "source": [
    "net_g = SynthesizerTrn(\n",
    "    hps.data.filter_length // 2 + 1,\n",
    "    hps.train.segment_size // hps.data.hop_length,\n",
    "    n_speakers=hps.data.n_speakers,\n",
    "    **hps.model).cuda()\n",
    "_ = net_g.eval()\n",
    "\n",
    "_ = utils.load_checkpoint(\"./checkpoint_dir/G_*.pth\", net_g, None)"
   ]
  },
  {
   "cell_type": "code",
   "execution_count": 9,
   "metadata": {},
   "outputs": [
    {
     "ename": "KeyboardInterrupt",
     "evalue": "",
     "output_type": "error",
     "traceback": [
      "\u001b[0;31m---------------------------------------------------------------------------\u001b[0m",
      "\u001b[0;31mKeyboardInterrupt\u001b[0m                         Traceback (most recent call last)",
      "\u001b[0;32m<ipython-input-9-346acc608075>\u001b[0m in \u001b[0;36m<module>\u001b[0;34m\u001b[0m\n\u001b[1;32m      8\u001b[0m     spec = spectrogram_torch(audio_norm, 1024,\n\u001b[1;32m      9\u001b[0m             \u001b[0;36m22050\u001b[0m\u001b[0;34m,\u001b[0m \u001b[0;36m256\u001b[0m\u001b[0;34m,\u001b[0m \u001b[0;36m1024\u001b[0m\u001b[0;34m,\u001b[0m\u001b[0;34m\u001b[0m\u001b[0;34m\u001b[0m\u001b[0m\n\u001b[0;32m---> 10\u001b[0;31m             center=False)\n\u001b[0m\u001b[1;32m     11\u001b[0m \u001b[0;31m#     print(filename)\u001b[0m\u001b[0;34m\u001b[0m\u001b[0;34m\u001b[0m\u001b[0;34m\u001b[0m\u001b[0m\n\u001b[1;32m     12\u001b[0m     \u001b[0mf_name\u001b[0m\u001b[0;34m=\u001b[0m\u001b[0mos\u001b[0m\u001b[0;34m.\u001b[0m\u001b[0mpath\u001b[0m\u001b[0;34m.\u001b[0m\u001b[0mbasename\u001b[0m\u001b[0;34m(\u001b[0m\u001b[0mfilename\u001b[0m\u001b[0;34m)\u001b[0m\u001b[0;34m\u001b[0m\u001b[0;34m\u001b[0m\u001b[0m\n",
      "\u001b[0;32m~/tools/IITP_vocoder/cvae/mel_processing.py\u001b[0m in \u001b[0;36mspectrogram_torch\u001b[0;34m(y, n_fft, sampling_rate, hop_size, win_size, center)\u001b[0m\n\u001b[1;32m     67\u001b[0m                       center=center, pad_mode='reflect', normalized=False, onesided=True)\n\u001b[1;32m     68\u001b[0m \u001b[0;34m\u001b[0m\u001b[0m\n\u001b[0;32m---> 69\u001b[0;31m     \u001b[0mspec\u001b[0m \u001b[0;34m=\u001b[0m \u001b[0mtorch\u001b[0m\u001b[0;34m.\u001b[0m\u001b[0msqrt\u001b[0m\u001b[0;34m(\u001b[0m\u001b[0mspec\u001b[0m\u001b[0;34m.\u001b[0m\u001b[0mpow\u001b[0m\u001b[0;34m(\u001b[0m\u001b[0;36m2\u001b[0m\u001b[0;34m)\u001b[0m\u001b[0;34m.\u001b[0m\u001b[0msum\u001b[0m\u001b[0;34m(\u001b[0m\u001b[0;34m-\u001b[0m\u001b[0;36m1\u001b[0m\u001b[0;34m)\u001b[0m \u001b[0;34m+\u001b[0m \u001b[0;36m1e-6\u001b[0m\u001b[0;34m)\u001b[0m\u001b[0;34m\u001b[0m\u001b[0;34m\u001b[0m\u001b[0m\n\u001b[0m\u001b[1;32m     70\u001b[0m     \u001b[0;32mreturn\u001b[0m \u001b[0mspec\u001b[0m\u001b[0;34m\u001b[0m\u001b[0;34m\u001b[0m\u001b[0m\n\u001b[1;32m     71\u001b[0m \u001b[0;34m\u001b[0m\u001b[0m\n",
      "\u001b[0;31mKeyboardInterrupt\u001b[0m: "
     ]
    }
   ],
   "source": [
    "filenames=glob('./test_wav_dir/**/*.wav',recursive=True)\n",
    "# filenames=filenames[1000:]\n",
    "# print(filenames)\n",
    "for filename in filenames:\n",
    "    audio, sampling_rate = load_wav_to_torch(filename)\n",
    "    audio_norm = audio / 32768.0\n",
    "    audio_norm = audio_norm.unsqueeze(0)\n",
    "    spec = spectrogram_torch(audio_norm, 1024,\n",
    "            22050, 256, 1024,\n",
    "            center=False)\n",
    "#     print(filename)\n",
    "    f_name=os.path.basename(filename)\n",
    "    mel = spec_to_mel_torch(\n",
    "        spec, \n",
    "        hps.data.filter_length, \n",
    "        hps.data.n_mel_channels, \n",
    "        hps.data.sampling_rate,\n",
    "        hps.data.mel_fmin, \n",
    "        hps.data.mel_fmax)\n",
    "#     print(mel.shape)\n",
    "    with torch.no_grad():\n",
    "        mel = mel.cuda()\n",
    "        spec_lengths = torch.LongTensor([mel.size(2)]).cuda()\n",
    "        sid = None\n",
    "        start=time.time() \n",
    "        audio_ = net_g.infer(mel, spec_lengths, sid=sid, noise_scale=.667, noise_scale_w=0.8, length_scale=1)[0][0,0].data.cpu().float().numpy()\n",
    "        end = time.time()\n",
    "#         print((len(audio)/16000)/(end-start))\n",
    "        \n",
    "        ipd.display(ipd.Audio(audio, rate=hps.data.sampling_rate, normalize=True))\n",
    "        ipd.display(ipd.Audio(audio_, rate=hps.data.sampling_rate, normalize=True))\n",
    "#         write('./generated_files/'+f_name, 22050, audio_)"
   ]
  },
  {
   "cell_type": "code",
   "execution_count": null,
   "metadata": {},
   "outputs": [],
   "source": []
  }
 ],
 "metadata": {
  "kernelspec": {
   "display_name": "vits",
   "language": "python",
   "name": "vits"
  },
  "language_info": {
   "codemirror_mode": {
    "name": "ipython",
    "version": 3
   },
   "file_extension": ".py",
   "mimetype": "text/x-python",
   "name": "python",
   "nbconvert_exporter": "python",
   "pygments_lexer": "ipython3",
   "version": "3.6.13"
  }
 },
 "nbformat": 4,
 "nbformat_minor": 4
}
